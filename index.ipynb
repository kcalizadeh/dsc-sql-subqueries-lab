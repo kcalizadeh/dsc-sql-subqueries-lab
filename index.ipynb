{
 "cells": [
  {
   "cell_type": "markdown",
   "metadata": {},
   "source": [
    "# SQL Subqueries - Lab\n",
    "\n",
    "## Introduction\n",
    "\n",
    "Now that you've seen how subqueries work, it's time to get some practice writing them! Not all of the queries will require subqueries, but all will be a bit more complex and require some thought and review about aggregates, grouping, ordering, filtering, joins and subqueries. Good luck!  \n",
    "\n",
    "## Objectives\n",
    "\n",
    "You will be able to:\n",
    "\n",
    "* Write subqueries to decompose complex queries\n",
    "\n",
    "## CRM Database Schema\n",
    "\n",
    "Once again, here's the schema for the CRM database you'll continue to practice with.\n",
    "\n",
    "<img src=\"images/Database-Schema.png\" width=\"600\">\n",
    "\n",
    "## Connect to the Database\n",
    "\n",
    "As usual, start by importing the necessary packages and connecting to the database **data.sqlite**."
   ]
  },
  {
   "cell_type": "code",
   "execution_count": 1,
   "metadata": {},
   "outputs": [],
   "source": [
    "# Your code here; import the necessary packages\n",
    "import sqlite3\n",
    "import pandas as pd"
   ]
  },
  {
   "cell_type": "code",
   "execution_count": 2,
   "metadata": {},
   "outputs": [],
   "source": [
    "# Your code here; create the connection and cursor\n",
    "conn = sqlite3.connect('data.sqlite')\n",
    "cur = conn.cursor()"
   ]
  },
  {
   "cell_type": "markdown",
   "metadata": {},
   "source": [
    "## Write an Equivalent Query using a Subquery\n",
    "\n",
    "```SQL\n",
    "SELECT customerNumber,\n",
    "       contactLastName,\n",
    "       contactFirstName\n",
    "       FROM customers\n",
    "       JOIN orders \n",
    "       USING(customerNumber)\n",
    "       WHERE orderDate = '2003-01-31';\n",
    "```"
   ]
  },
  {
   "cell_type": "code",
   "execution_count": 9,
   "metadata": {},
   "outputs": [
    {
     "data": {
      "text/plain": [
       "[(141, 'Freyre', 'Diego ')]"
      ]
     },
     "execution_count": 9,
     "metadata": {},
     "output_type": "execute_result"
    }
   ],
   "source": [
    "# Your code here; use a subquery. No join is necessary \n",
    "cur.execute('''SELECT customerNumber, contactLastName, contactFirstName\n",
    "                FROM customers\n",
    "                WHERE customerNumber IN (SELECT customerNumber\n",
    "                                    FROM orders\n",
    "                                    WHERE orderDate = '2003-01-31');''').fetchall()"
   ]
  },
  {
   "cell_type": "markdown",
   "metadata": {},
   "source": [
    "## Select the Total Number of Orders for Each Product Name\n",
    "\n",
    "Sort the results by the total number of items sold for that product."
   ]
  },
  {
   "cell_type": "code",
   "execution_count": 26,
   "metadata": {},
   "outputs": [
    {
     "data": {
      "text/plain": [
       "[('18th Century Vintage Horse Carriage', 0),\n",
       " ('18th century schooner', 0),\n",
       " ('1900s Vintage Bi-Plane', 0),\n",
       " ('1900s Vintage Tri-Plane', 0),\n",
       " ('1903 Ford Model A', 0),\n",
       " ('1904 Buick Runabout', 0),\n",
       " ('1911 Ford Town Car', 0),\n",
       " ('1912 Ford Model T Delivery Wagon', 0),\n",
       " ('1913 Ford Model T Speedster', 0),\n",
       " ('1917 Grand Touring Sedan', 0),\n",
       " ('1917 Maxwell Touring Car', 0),\n",
       " ('1926 Ford Fire Engine', 0),\n",
       " ('1928 British Royal Navy Airplane', 0),\n",
       " ('1928 Ford Phaeton Deluxe', 0),\n",
       " ('1928 Mercedes-Benz SSK', 0),\n",
       " ('1930 Buick Marquette Phaeton', 0),\n",
       " ('1932 Alfa Romeo 8C2300 Spider Sport', 0),\n",
       " ('1932 Model A Ford J-Coupe', 0),\n",
       " ('1934 Ford V8 Coupe', 0),\n",
       " ('1936 Chrysler Airflow', 0),\n",
       " ('1936 Harley Davidson El Knucklehead', 0),\n",
       " ('1936 Mercedes Benz 500k Roadster', 0),\n",
       " ('1936 Mercedes-Benz 500K Special Roadster', 0),\n",
       " ('1937 Horch 930V Limousine', 0),\n",
       " ('1937 Lincoln Berline', 0),\n",
       " ('1938 Cadillac V-16 Presidential Limousine', 0),\n",
       " ('1939 Cadillac Limousine', 0),\n",
       " ('1939 Chevrolet Deluxe Coupe', 0),\n",
       " ('1940 Ford Delivery Sedan', 0),\n",
       " ('1940 Ford Pickup Truck', 0),\n",
       " ('1940s Ford truck', 0),\n",
       " ('1941 Chevrolet Special Deluxe Cabriolet', 0),\n",
       " ('1948 Porsche 356-A Roadster', 0),\n",
       " ('1948 Porsche Type 356 Roadster', 0),\n",
       " ('1949 Jaguar XK 120', 0),\n",
       " (\"1950's Chicago Surface Lines Streetcar\", 0),\n",
       " ('1952 Alpine Renault 1300', 0),\n",
       " ('1952 Citroen-15CV', 0),\n",
       " ('1954 Greyhound Scenicruiser', 0),\n",
       " ('1956 Porsche 356A Coupe', 0),\n",
       " ('1957 Chevy Pickup', 0),\n",
       " ('1957 Corvette Convertible', 0),\n",
       " ('1957 Ford Thunderbird', 0),\n",
       " ('1957 Vespa GS150', 0),\n",
       " ('1958 Chevy Corvette Limited Edition', 0),\n",
       " ('1958 Setra Bus', 0),\n",
       " ('1960 BSA Gold Star DBD34', 0),\n",
       " ('1961 Chevrolet Impala', 0),\n",
       " ('1962 City of Detroit Streetcar', 0),\n",
       " ('1962 LanciaA Delta 16V', 0),\n",
       " ('1962 Volkswagen Microbus', 0),\n",
       " ('1964 Mercedes Tour Bus', 0),\n",
       " ('1965 Aston Martin DB5', 0),\n",
       " ('1966 Shelby Cobra 427 S/C', 0),\n",
       " ('1968 Dodge Charger', 0),\n",
       " ('1968 Ford Mustang', 0),\n",
       " ('1969 Chevrolet Camaro Z28', 0),\n",
       " ('1969 Corvair Monza', 0),\n",
       " ('1969 Dodge Charger', 0),\n",
       " ('1969 Dodge Super Bee', 0),\n",
       " ('1969 Ford Falcon', 0),\n",
       " ('1969 Harley Davidson Ultimate Chopper', 0),\n",
       " ('1970 Chevy Chevelle SS 454', 0),\n",
       " ('1970 Dodge Coronet', 0),\n",
       " ('1970 Plymouth Hemi Cuda', 0),\n",
       " ('1970 Triumph Spitfire', 0),\n",
       " ('1971 Alpine Renault 1600s', 0),\n",
       " ('1972 Alfa Romeo GTA', 0),\n",
       " ('1974 Ducati 350 Mk3 Desmo', 0),\n",
       " ('1976 Ford Gran Torino', 0),\n",
       " ('1980s Black Hawk Helicopter', 0),\n",
       " ('1980’s GM Manhattan Express', 0),\n",
       " ('1982 Camaro Z28', 0),\n",
       " ('1982 Ducati 900 Monster', 0),\n",
       " ('1982 Ducati 996 R', 0),\n",
       " ('1982 Lamborghini Diablo', 0),\n",
       " ('1985 Toyota Supra', 0),\n",
       " ('1992 Ferrari 360 Spider red', 0),\n",
       " ('1992 Porsche Cayenne Turbo Silver', 0),\n",
       " ('1993 Mazda RX-7', 0),\n",
       " ('1995 Honda Civic', 0),\n",
       " ('1996 Moto Guzzi 1100i', 0),\n",
       " ('1996 Peterbilt 379 Stake Bed with Outrigger', 0),\n",
       " ('1997 BMW F650 ST', 0),\n",
       " ('1997 BMW R 1100 S', 0),\n",
       " ('1998 Chrysler Plymouth Prowler', 0),\n",
       " ('1999 Indy 500 Monte Carlo SS', 0),\n",
       " ('1999 Yamaha Speed Boat', 0),\n",
       " ('2001 Ferrari Enzo', 0),\n",
       " ('2002 Chevy Corvette', 0),\n",
       " ('2002 Suzuki XREO', 0),\n",
       " ('2002 Yamaha YZR M1', 0),\n",
       " ('2003 Harley-Davidson Eagle Drag Bike', 0),\n",
       " ('ATA: B757-300', 0),\n",
       " ('America West Airlines B757-200', 0),\n",
       " ('American Airlines: B767-300', 0),\n",
       " ('American Airlines: MD-11S', 0),\n",
       " ('Boeing X-32A JSF', 0),\n",
       " ('Collectable Wooden Train', 0),\n",
       " ('Corsair F4U ( Bird Cage)', 0),\n",
       " ('Diamond T620 Semi-Skirted Tanker', 0),\n",
       " ('F/A 18 Hornet 1/72', 0),\n",
       " ('HMS Bounty', 0),\n",
       " ('P-51-D Mustang', 0),\n",
       " ('Pont Yacht', 0),\n",
       " ('The Mayflower', 0),\n",
       " ('The Queen Mary', 0),\n",
       " ('The Schooner Bluenose', 0),\n",
       " ('The Titanic', 0),\n",
       " ('The USS Constitution Ship', 0)]"
      ]
     },
     "execution_count": 26,
     "metadata": {},
     "output_type": "execute_result"
    }
   ],
   "source": [
    "# Your code here\n",
    "cur.execute('''SELECT productName, COUNT(orderNumber)\n",
    "                FROM products\n",
    "                LEFT JOIN orderDetails\n",
    "                ON orderdetails.productCode\n",
    "                GROUP BY productName''').fetchall()"
   ]
  },
  {
   "cell_type": "markdown",
   "metadata": {},
   "source": [
    "## Select the Product Name and the  Total Number of People Who Have Ordered Each Product\n",
    "\n",
    "Sort the results in descending order."
   ]
  },
  {
   "cell_type": "code",
   "execution_count": null,
   "metadata": {},
   "outputs": [],
   "source": []
  },
  {
   "cell_type": "markdown",
   "metadata": {},
   "source": [
    "### A quick note on the SQL  `SELECT DISTINCT` statement:"
   ]
  },
  {
   "cell_type": "markdown",
   "metadata": {},
   "source": [
    "The `SELECT DISTINCT` statement is used to return only distinct values in the specified column. In other words, it removes the duplicate values in the column from the result set.\n",
    "\n",
    "Inside a table, a column often contains many duplicate values; and sometimes you only want to list the unique values. If you apply the `DISTINCT` clause to a column that has `NULL`, the `DISTINCT` clause will keep only one NULL and eliminates the other. In other words, the DISTINCT clause treats all `NULL` “values” as the same value."
   ]
  },
  {
   "cell_type": "code",
   "execution_count": null,
   "metadata": {},
   "outputs": [],
   "source": [
    "# Your code here:\n",
    "# Hint: because one of the tables we'll be joining has duplicate customer numbers, you should use DISTINCT"
   ]
  },
  {
   "cell_type": "markdown",
   "metadata": {},
   "source": [
    "## Select the Employee Number, First Name, Last Name, City (of the office), and Office Code of the Employees Who Sold Products Which Have Been Ordered by Less Then 20 people.\n",
    "\n",
    "This problem is a bit tougher. To start, think about how you might break the problem up. Be sure that your results only list each employee once."
   ]
  },
  {
   "cell_type": "code",
   "execution_count": null,
   "metadata": {},
   "outputs": [],
   "source": [
    "# Your code here\n",
    "cur.execute"
   ]
  },
  {
   "cell_type": "markdown",
   "metadata": {},
   "source": [
    "## Select the Employee Number, First Name, Last Name, and Number of Customers for Employees Whose Customers Have an Average Credit Limit of Over 15K"
   ]
  },
  {
   "cell_type": "code",
   "execution_count": 25,
   "metadata": {},
   "outputs": [
    {
     "data": {
      "text/plain": [
       "[(1165, 'Leslie', 'Jennings', 6),\n",
       " (1166, 'Leslie', 'Thompson', 5),\n",
       " (1188, 'Julie', 'Firrelli', 6),\n",
       " (1216, 'Steve', 'Patterson', 6),\n",
       " (1286, 'Foon Yue', 'Tseng', 6),\n",
       " (1323, 'George', 'Vanauf', 8),\n",
       " (1337, 'Loui', 'Bondur', 6),\n",
       " (1370, 'Gerard', 'Hernandez', 7),\n",
       " (1401, 'Pamela', 'Castillo', 10),\n",
       " (1501, 'Larry', 'Bott', 8),\n",
       " (1504, 'Barry', 'Jones', 9),\n",
       " (1611, 'Andy', 'Fixter', 5),\n",
       " (1612, 'Peter', 'Marsh', 5),\n",
       " (1621, 'Mami', 'Nishi', 5),\n",
       " (1702, 'Martin', 'Gerard', 5)]"
      ]
     },
     "execution_count": 25,
     "metadata": {},
     "output_type": "execute_result"
    }
   ],
   "source": [
    "# Your code here\n",
    "cur.execute('''SELECT employeeNumber, firstname, lastname, COUNT(customernumber)\n",
    "                FROM employees e\n",
    "                LEFT JOIN customers c\n",
    "                ON e.employeenumber = c.salesRepEmployeeNumber\n",
    "                WHERE creditlimit > 15000\n",
    "                GROUP BY employeenumber''').fetchall()"
   ]
  },
  {
   "cell_type": "code",
   "execution_count": null,
   "metadata": {},
   "outputs": [],
   "source": []
  },
  {
   "cell_type": "markdown",
   "metadata": {},
   "source": [
    "## Summary\n",
    "\n",
    "In this lesson, you got to practice some more complex SQL queries, some of which required subqueries. There's still plenty more SQL to be had though; hope you've been enjoying some of these puzzles!"
   ]
  }
 ],
 "metadata": {
  "kernelspec": {
   "display_name": "Python 3",
   "language": "python",
   "name": "python3"
  },
  "language_info": {
   "codemirror_mode": {
    "name": "ipython",
    "version": 3
   },
   "file_extension": ".py",
   "mimetype": "text/x-python",
   "name": "python",
   "nbconvert_exporter": "python",
   "pygments_lexer": "ipython3",
   "version": "3.6.9"
  },
  "toc": {
   "base_numbering": 1,
   "nav_menu": {},
   "number_sections": true,
   "sideBar": true,
   "skip_h1_title": false,
   "title_cell": "Table of Contents",
   "title_sidebar": "Contents",
   "toc_cell": false,
   "toc_position": {},
   "toc_section_display": true,
   "toc_window_display": false
  }
 },
 "nbformat": 4,
 "nbformat_minor": 2
}
